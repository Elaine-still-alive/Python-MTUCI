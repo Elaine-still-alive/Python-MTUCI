{
 "cells": [
  {
   "cell_type": "markdown",
   "metadata": {},
   "source": [
    "# Лабораторная работа №2\n",
    "## Выполнила студентка группы БВТ1905 Семко Елена\n",
    "\n",
    "Реализовать методы поиска в соответствии с заданием. Организовать генерацию начального набора случайных данных. Для всех вариантов добавить реализацию добавления, поиска и удаления элементов. Оценить время работы каждого алгоритма поиска и сравнить его со временем работы стандартной функции поиска, используемой в выбранном языке программирования."
   ]
  },
  {
   "cell_type": "markdown",
   "metadata": {},
   "source": [
    "### Задание №1"
   ]
  },
  {
   "cell_type": "code",
   "execution_count": 50,
   "metadata": {
    "scrolled": true
   },
   "outputs": [
    {
     "name": "stdout",
     "output_type": "stream",
     "text": [
      "150\n",
      "[112, 403, 893, 937, 1021, 1048, 1087, 1146, 1156, 1158, 1311, 1336, 1364, 1421, 1451, 1514, 1551, 1627, 1778, 1804, 1973, 2203, 2477, 2595, 2824, 2879, 3067, 3835, 4234, 4320, 4364, 4383, 4545, 4742, 4869, 4912, 5039, 5078, 5225, 5261, 5333, 5367, 5631, 5648, 5703, 5840, 5853, 6077, 6424, 6562, 6655, 6732, 6761, 6826, 6922, 6928, 7079, 7221, 7294, 7313, 7357, 7365, 7602, 7709, 7792, 7895, 7908, 8060, 8149, 8185, 8240, 8283, 8399, 8411, 8616, 8642, 8776, 8811, 8897, 8916, 9153, 9215, 9224, 9319, 9381, 9505, 9579, 9637, 9829, 9844, 10013, 10190, 10218, 10399, 10668, 10737, 10741, 10854, 11079, 11086, 11249, 11364, 11509, 11699, 11731, 11773, 11843, 11898, 12006, 12021, 12043, 12112, 12190, 12410, 12560, 12587, 12615, 12832, 12957, 13000, 13046, 13270, 13345, 13462, 13508, 13791, 13824, 13932, 13994, 14219, 14265, 14484, 14487, 14514, 14652, 14652, 14764, 14849, 14936, 14949, 15037, 15042, 15259, 15350, 15372, 15522, 15577, 15748, 15783, 15991]\n",
      "1048\n"
     ]
    }
   ],
   "source": [
    "from random import randint\n",
    "import time\n",
    "#создаем массив значений и сортируем по возрастанию\n",
    "a=[]\n",
    "n = int(input())\n",
    "for i in range(n):\n",
    "    a.append(randint(0,16000))\n",
    "a.sort()\n",
    "print(a)\n",
    "\n",
    "#искомое значение\n",
    "searching_value = int(input()) "
   ]
  },
  {
   "cell_type": "markdown",
   "metadata": {},
   "source": [
    "Бинарный поиск"
   ]
  },
  {
   "cell_type": "code",
   "execution_count": 51,
   "metadata": {},
   "outputs": [],
   "source": [
    "\n",
    "def BinarySearch(a, searching_value):\n",
    "    middle_index = len(a)//2\n",
    "    high_index = len(a)-1\n",
    "    low_index = 0\n",
    "    while a[middle_index]!=searching_value and low_index<=high_index:\n",
    "        if searching_value>a[middle_index]:\n",
    "            low_index = middle_index+1\n",
    "        else:\n",
    "            high_index = middle_index - 1\n",
    "        middle_index = (high_index+low_index)//2\n",
    "\n",
    "    if low_index>high_index:\n",
    "        return -1\n",
    "    else:\n",
    "        return middle_index"
   ]
  },
  {
   "cell_type": "markdown",
   "metadata": {},
   "source": [
    "Фибоначчиев поиск"
   ]
  },
  {
   "cell_type": "code",
   "execution_count": 52,
   "metadata": {},
   "outputs": [],
   "source": [
    "def FibonacciSearch(a, searching_value):\n",
    "    fib_1 = 0\n",
    "    fib_2 = 1\n",
    "    fib = fib_1+fib_2\n",
    "    while a[fib]!= searching_value:\n",
    "        if a[fib]<searching_value:\n",
    "            fib_1 = fib_2\n",
    "            fib_2 = fib\n",
    "            fib = fib_2+fib\n",
    "        if a[fib]>searching_value:\n",
    "            while a[fib_2]!= searching_value and fib_2<fib:\n",
    "                fib_2+=1\n",
    "            return fib_2\n",
    "    return -1"
   ]
  },
  {
   "cell_type": "markdown",
   "metadata": {},
   "source": [
    "Интерполяционный поиск"
   ]
  },
  {
   "cell_type": "code",
   "execution_count": 53,
   "metadata": {
    "scrolled": true
   },
   "outputs": [],
   "source": [
    "def InterpolationSearch(a, searching_value):\n",
    "    high_index = len(a)-1\n",
    "    low_index = 0\n",
    "    step = low_index+((high_index-low_index)*(searching_value-a[low_index]))//(a[high_index]-a[low_index])\n",
    "    if step>high_index:\n",
    "        return -1\n",
    "    while a[step] != searching_value and low_index<=high_index:\n",
    "        step = low_index+((high_index-low_index)*(searching_value-a[low_index]))//(a[high_index]-a[low_index])\n",
    "        if a[step]==searching_value:\n",
    "            return step\n",
    "        if a[step]<searching_value:\n",
    "            low_index=step+1\n",
    "        else:\n",
    "            high_index=step-1   \n",
    "    return -1\n"
   ]
  },
  {
   "cell_type": "code",
   "execution_count": 55,
   "metadata": {
    "scrolled": true
   },
   "outputs": [
    {
     "name": "stdout",
     "output_type": "stream",
     "text": [
      "Время бинарного поиска:  0.000997304916381836 seconds\n",
      "Время фибоначчиева поиска:  0.0009968280792236328 seconds\n",
      "Время интерполяционного поиска:  0.0009953975677490234 seconds\n"
     ]
    }
   ],
   "source": [
    "import time\n",
    "start_time=time.time()\n",
    "BinarySearch([112, 403, 893, 937, 1021, 1048, 1087, 1146, 1156, 1158, 1311, 1336, 1364, 1421, 1451, 1514, 1551, 1627, 1778, 1804, 1973, 2203, 2477, 2595, 2824, 2879, 3067, 3835, 4234, 4320, 4364, 4383, 4545, 4742, 4869, 4912, 5039, 5078, 5225, 5261, 5333, 5367, 5631, 5648, 5703, 5840, 5853, 6077, 6424, 6562, 6655, 6732, 6761, 6826, 6922, 6928, 7079, 7221, 7294, 7313, 7357, 7365, 7602, 7709, 7792, 7895, 7908, 8060, 8149, 8185, 8240, 8283, 8399, 8411, 8616, 8642, 8776, 8811, 8897, 8916, 9153, 9215, 9224, 9319, 9381, 9505, 9579, 9637, 9829, 9844, 10013, 10190, 10218, 10399, 10668, 10737, 10741, 10854, 11079, 11086, 11249, 11364, 11509, 11699, 11731, 11773, 11843, 11898, 12006, 12021, 12043, 12112, 12190, 12410, 12560, 12587, 12615, 12832, 12957, 13000, 13046, 13270, 13345, 13462, 13508, 13791, 13824, 13932, 13994, 14219, 14265, 14484, 14487, 14514, 14652, 14652, 14764, 14849, 14936, 14949, 15037, 15042, 15259, 15350, 15372, 15522, 15577, 15748, 15783, 15991], 1048)\n",
    "print(\"Время бинарного поиска: \",\"%s seconds\" % (time.time() - start_time))\n",
    "\n",
    "start_time=time.time()\n",
    "FibonacciSearch([112, 403, 893, 937, 1021, 1048, 1087, 1146, 1156, 1158, 1311, 1336, 1364, 1421, 1451, 1514, 1551, 1627, 1778, 1804, 1973, 2203, 2477, 2595, 2824, 2879, 3067, 3835, 4234, 4320, 4364, 4383, 4545, 4742, 4869, 4912, 5039, 5078, 5225, 5261, 5333, 5367, 5631, 5648, 5703, 5840, 5853, 6077, 6424, 6562, 6655, 6732, 6761, 6826, 6922, 6928, 7079, 7221, 7294, 7313, 7357, 7365, 7602, 7709, 7792, 7895, 7908, 8060, 8149, 8185, 8240, 8283, 8399, 8411, 8616, 8642, 8776, 8811, 8897, 8916, 9153, 9215, 9224, 9319, 9381, 9505, 9579, 9637, 9829, 9844, 10013, 10190, 10218, 10399, 10668, 10737, 10741, 10854, 11079, 11086, 11249, 11364, 11509, 11699, 11731, 11773, 11843, 11898, 12006, 12021, 12043, 12112, 12190, 12410, 12560, 12587, 12615, 12832, 12957, 13000, 13046, 13270, 13345, 13462, 13508, 13791, 13824, 13932, 13994, 14219, 14265, 14484, 14487, 14514, 14652, 14652, 14764, 14849, 14936, 14949, 15037, 15042, 15259, 15350, 15372, 15522, 15577, 15748, 15783, 15991], 1048)\n",
    "print(\"Время фибоначчиева поиска: \",\"%s seconds\" % (time.time() - start_time))\n",
    "\n",
    "start_time=time.time()\n",
    "InterpolationSearch([112, 403, 893, 937, 1021, 1048, 1087, 1146, 1156, 1158, 1311, 1336, 1364, 1421, 1451, 1514, 1551, 1627, 1778, 1804, 1973, 2203, 2477, 2595, 2824, 2879, 3067, 3835, 4234, 4320, 4364, 4383, 4545, 4742, 4869, 4912, 5039, 5078, 5225, 5261, 5333, 5367, 5631, 5648, 5703, 5840, 5853, 6077, 6424, 6562, 6655, 6732, 6761, 6826, 6922, 6928, 7079, 7221, 7294, 7313, 7357, 7365, 7602, 7709, 7792, 7895, 7908, 8060, 8149, 8185, 8240, 8283, 8399, 8411, 8616, 8642, 8776, 8811, 8897, 8916, 9153, 9215, 9224, 9319, 9381, 9505, 9579, 9637, 9829, 9844, 10013, 10190, 10218, 10399, 10668, 10737, 10741, 10854, 11079, 11086, 11249, 11364, 11509, 11699, 11731, 11773, 11843, 11898, 12006, 12021, 12043, 12112, 12190, 12410, 12560, 12587, 12615, 12832, 12957, 13000, 13046, 13270, 13345, 13462, 13508, 13791, 13824, 13932, 13994, 14219, 14265, 14484, 14487, 14514, 14652, 14652, 14764, 14849, 14936, 14949, 15037, 15042, 15259, 15350, 15372, 15522, 15577, 15748, 15783, 15991], 1048)\n",
    "print(\"Время интерполяционного поиска: \",\"%s seconds\" % (time.time() - start_time))"
   ]
  },
  {
   "cell_type": "markdown",
   "metadata": {},
   "source": [
    "Бинарное дерево"
   ]
  },
  {
   "cell_type": "code",
   "execution_count": 63,
   "metadata": {},
   "outputs": [
    {
     "name": "stdout",
     "output_type": "stream",
     "text": [
      "1500\n",
      "Нет элемента 953\n",
      "Время поиска бинарного дерева:  2.9389870166778564 seconds\n"
     ]
    }
   ],
   "source": [
    "start_time = time.time()\n",
    "class Node:\n",
    "    def __init__(self, value):\n",
    "        self.left = None\n",
    "        self.right = None\n",
    "        self.value = value\n",
    "\n",
    "class BinaryTree:\n",
    "    def __init__(self):\n",
    "        self.root = None\n",
    "\n",
    "    def getRoot(self):\n",
    "        return self.root\n",
    "\n",
    "    def addElement(self, value):\n",
    "        if self.root is None:\n",
    "            self.root = Node(value)\n",
    "        else:\n",
    "            self._addElement(value, self.root)\n",
    "\n",
    "    def _addElement(self, value, node):\n",
    "        if value < node.value:\n",
    "            if node.left is not None:\n",
    "                self._addElement(value, node.left)\n",
    "            else:\n",
    "                node.left = Node(value)\n",
    "        else:\n",
    "            if node.right is not None:\n",
    "                self._addElement(value, node.right)\n",
    "            else:\n",
    "                node.right = Node(value)\n",
    "\n",
    "    def findElement(self, value):\n",
    "        if self.root is not None:\n",
    "            return self._findElement(value, self.root)\n",
    "        else:\n",
    "            return None\n",
    "\n",
    "    def _findElement(self, value, node):\n",
    "        if value == node.value:\n",
    "            return node\n",
    "        elif (value < node.value and node.left is not None):\n",
    "            return self._findElement(value, node.left)\n",
    "        elif (value > node.value and node.right is not None):\n",
    "            return self._findElement(value, node.right)\n",
    "        \n",
    "tree = BinaryTree()\n",
    "a=[]\n",
    "n = int(input())\n",
    "for i in range(n):\n",
    "    a.append(randint(0,1000))\n",
    "for i in range(len(a)):\n",
    "    tree.addElement(a[i])\n",
    "searching_element = randint(0,1000)\n",
    "if tree.findElement(searching_element) is None:\n",
    "    print(\"Нет элемента\", searching_element)\n",
    "else: \n",
    "    print(\"Элемент\", searching_element, \"найден\")\n",
    "print(\"Время поиска бинарного дерева: \",\"%s seconds\" % (time.time() - start_time))"
   ]
  },
  {
   "cell_type": "code",
   "execution_count": null,
   "metadata": {},
   "outputs": [],
   "source": []
  }
 ],
 "metadata": {
  "kernelspec": {
   "display_name": "Python 3",
   "language": "python",
   "name": "python3"
  },
  "language_info": {
   "codemirror_mode": {
    "name": "ipython",
    "version": 3
   },
   "file_extension": ".py",
   "mimetype": "text/x-python",
   "name": "python",
   "nbconvert_exporter": "python",
   "pygments_lexer": "ipython3",
   "version": "3.8.5"
  }
 },
 "nbformat": 4,
 "nbformat_minor": 4
}
