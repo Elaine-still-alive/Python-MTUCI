{
 "cells": [
  {
   "cell_type": "markdown",
   "metadata": {},
   "source": [
    "# Лабораторная работа №2\n",
    "## Выполнила студентка группы БВТ1905 Семко Елена\n",
    "\n",
    "Реализовать методы поиска в соответствии с заданием. Организовать генерацию начального набора случайных данных. Для всех вариантов добавить реализацию добавления, поиска и удаления элементов. Оценить время работы каждого алгоритма поиска и сравнить его со временем работы стандартной функции поиска, используемой в выбранном языке программирования."
   ]
  },
  {
   "cell_type": "markdown",
   "metadata": {},
   "source": [
    "### Задание №1"
   ]
  },
  {
   "cell_type": "code",
   "execution_count": 50,
   "metadata": {
    "scrolled": true
   },
   "outputs": [
    {
     "name": "stdout",
     "output_type": "stream",
     "text": [
      "150\n",
      "[112, 403, 893, 937, 1021, 1048, 1087, 1146, 1156, 1158, 1311, 1336, 1364, 1421, 1451, 1514, 1551, 1627, 1778, 1804, 1973, 2203, 2477, 2595, 2824, 2879, 3067, 3835, 4234, 4320, 4364, 4383, 4545, 4742, 4869, 4912, 5039, 5078, 5225, 5261, 5333, 5367, 5631, 5648, 5703, 5840, 5853, 6077, 6424, 6562, 6655, 6732, 6761, 6826, 6922, 6928, 7079, 7221, 7294, 7313, 7357, 7365, 7602, 7709, 7792, 7895, 7908, 8060, 8149, 8185, 8240, 8283, 8399, 8411, 8616, 8642, 8776, 8811, 8897, 8916, 9153, 9215, 9224, 9319, 9381, 9505, 9579, 9637, 9829, 9844, 10013, 10190, 10218, 10399, 10668, 10737, 10741, 10854, 11079, 11086, 11249, 11364, 11509, 11699, 11731, 11773, 11843, 11898, 12006, 12021, 12043, 12112, 12190, 12410, 12560, 12587, 12615, 12832, 12957, 13000, 13046, 13270, 13345, 13462, 13508, 13791, 13824, 13932, 13994, 14219, 14265, 14484, 14487, 14514, 14652, 14652, 14764, 14849, 14936, 14949, 15037, 15042, 15259, 15350, 15372, 15522, 15577, 15748, 15783, 15991]\n",
      "1048\n"
     ]
    }
   ],
   "source": [
    "from random import randint\n",
    "import time\n",
    "#создаем массив значений и сортируем по возрастанию\n",
    "a=[]\n",
    "n = int(input())\n",
    "for i in range(n):\n",
    "    a.append(randint(0,16000))\n",
    "a.sort()\n",
    "print(a)\n",
    "\n",
    "#искомое значение\n",
    "searching_value = int(input()) "
   ]
  },
  {
   "cell_type": "markdown",
   "metadata": {},
   "source": [
    "Бинарный поиск"
   ]
  },
  {
   "cell_type": "code",
   "execution_count": 51,
   "metadata": {},
   "outputs": [],
   "source": [
    "\n",
    "def BinarySearch(a, searching_value):\n",
    "    middle_index = len(a)//2\n",
    "    high_index = len(a)-1\n",
    "    low_index = 0\n",
    "    while a[middle_index]!=searching_value and low_index<=high_index:\n",
    "        if searching_value>a[middle_index]:\n",
    "            low_index = middle_index+1\n",
    "        else:\n",
    "            high_index = middle_index - 1\n",
    "        middle_index = (high_index+low_index)//2\n",
    "\n",
    "    if low_index>high_index:\n",
    "        return -1\n",
    "    else:\n",
    "        return middle_index"
   ]
  },
  {
   "cell_type": "markdown",
   "metadata": {},
   "source": [
    "Фибоначчиев поиск"
   ]
  },
  {
   "cell_type": "code",
   "execution_count": 52,
   "metadata": {},
   "outputs": [],
   "source": [
    "def FibonacciSearch(a, searching_value):\n",
    "    fib_1 = 0\n",
    "    fib_2 = 1\n",
    "    fib = fib_1+fib_2\n",
    "    while a[fib]!= searching_value:\n",
    "        if a[fib]<searching_value:\n",
    "            fib_1 = fib_2\n",
    "            fib_2 = fib\n",
    "            fib = fib_2+fib\n",
    "        if a[fib]>searching_value:\n",
    "            while a[fib_2]!= searching_value and fib_2<fib:\n",
    "                fib_2+=1\n",
    "            return fib_2\n",
    "    return -1"
   ]
  },
  {
   "cell_type": "markdown",
   "metadata": {},
   "source": [
    "Интерполяционный поиск"
   ]
  },
  {
   "cell_type": "code",
   "execution_count": 53,
   "metadata": {
    "scrolled": true
   },
   "outputs": [],
   "source": [
    "def InterpolationSearch(a, searching_value):\n",
    "    high_index = len(a)-1\n",
    "    low_index = 0\n",
    "    step = low_index+((high_index-low_index)*(searching_value-a[low_index]))//(a[high_index]-a[low_index])\n",
    "    if step>high_index:\n",
    "        return -1\n",
    "    while a[step] != searching_value and low_index<=high_index:\n",
    "        step = low_index+((high_index-low_index)*(searching_value-a[low_index]))//(a[high_index]-a[low_index])\n",
    "        if a[step]==searching_value:\n",
    "            return step\n",
    "        if a[step]<searching_value:\n",
    "            low_index=step+1\n",
    "        else:\n",
    "            high_index=step-1   \n",
    "    return -1\n"
   ]
  },
  {
   "cell_type": "code",
   "execution_count": 55,
   "metadata": {
    "scrolled": true
   },
   "outputs": [
    {
     "name": "stdout",
     "output_type": "stream",
     "text": [
      "Время бинарного поиска:  0.000997304916381836 seconds\n",
      "Время фибоначчиева поиска:  0.0009968280792236328 seconds\n",
      "Время интерполяционного поиска:  0.0009953975677490234 seconds\n"
     ]
    }
   ],
   "source": [
    "import time\n",
    "start_time=time.time()\n",
    "BinarySearch([112, 403, 893, 937, 1021, 1048, 1087, 1146, 1156, 1158, 1311, 1336, 1364, 1421, 1451, 1514, 1551, 1627, 1778, 1804, 1973, 2203, 2477, 2595, 2824, 2879, 3067, 3835, 4234, 4320, 4364, 4383, 4545, 4742, 4869, 4912, 5039, 5078, 5225, 5261, 5333, 5367, 5631, 5648, 5703, 5840, 5853, 6077, 6424, 6562, 6655, 6732, 6761, 6826, 6922, 6928, 7079, 7221, 7294, 7313, 7357, 7365, 7602, 7709, 7792, 7895, 7908, 8060, 8149, 8185, 8240, 8283, 8399, 8411, 8616, 8642, 8776, 8811, 8897, 8916, 9153, 9215, 9224, 9319, 9381, 9505, 9579, 9637, 9829, 9844, 10013, 10190, 10218, 10399, 10668, 10737, 10741, 10854, 11079, 11086, 11249, 11364, 11509, 11699, 11731, 11773, 11843, 11898, 12006, 12021, 12043, 12112, 12190, 12410, 12560, 12587, 12615, 12832, 12957, 13000, 13046, 13270, 13345, 13462, 13508, 13791, 13824, 13932, 13994, 14219, 14265, 14484, 14487, 14514, 14652, 14652, 14764, 14849, 14936, 14949, 15037, 15042, 15259, 15350, 15372, 15522, 15577, 15748, 15783, 15991], 1048)\n",
    "print(\"Время бинарного поиска: \",\"%s seconds\" % (time.time() - start_time))\n",
    "\n",
    "start_time=time.time()\n",
    "FibonacciSearch([112, 403, 893, 937, 1021, 1048, 1087, 1146, 1156, 1158, 1311, 1336, 1364, 1421, 1451, 1514, 1551, 1627, 1778, 1804, 1973, 2203, 2477, 2595, 2824, 2879, 3067, 3835, 4234, 4320, 4364, 4383, 4545, 4742, 4869, 4912, 5039, 5078, 5225, 5261, 5333, 5367, 5631, 5648, 5703, 5840, 5853, 6077, 6424, 6562, 6655, 6732, 6761, 6826, 6922, 6928, 7079, 7221, 7294, 7313, 7357, 7365, 7602, 7709, 7792, 7895, 7908, 8060, 8149, 8185, 8240, 8283, 8399, 8411, 8616, 8642, 8776, 8811, 8897, 8916, 9153, 9215, 9224, 9319, 9381, 9505, 9579, 9637, 9829, 9844, 10013, 10190, 10218, 10399, 10668, 10737, 10741, 10854, 11079, 11086, 11249, 11364, 11509, 11699, 11731, 11773, 11843, 11898, 12006, 12021, 12043, 12112, 12190, 12410, 12560, 12587, 12615, 12832, 12957, 13000, 13046, 13270, 13345, 13462, 13508, 13791, 13824, 13932, 13994, 14219, 14265, 14484, 14487, 14514, 14652, 14652, 14764, 14849, 14936, 14949, 15037, 15042, 15259, 15350, 15372, 15522, 15577, 15748, 15783, 15991], 1048)\n",
    "print(\"Время фибоначчиева поиска: \",\"%s seconds\" % (time.time() - start_time))\n",
    "\n",
    "start_time=time.time()\n",
    "InterpolationSearch([112, 403, 893, 937, 1021, 1048, 1087, 1146, 1156, 1158, 1311, 1336, 1364, 1421, 1451, 1514, 1551, 1627, 1778, 1804, 1973, 2203, 2477, 2595, 2824, 2879, 3067, 3835, 4234, 4320, 4364, 4383, 4545, 4742, 4869, 4912, 5039, 5078, 5225, 5261, 5333, 5367, 5631, 5648, 5703, 5840, 5853, 6077, 6424, 6562, 6655, 6732, 6761, 6826, 6922, 6928, 7079, 7221, 7294, 7313, 7357, 7365, 7602, 7709, 7792, 7895, 7908, 8060, 8149, 8185, 8240, 8283, 8399, 8411, 8616, 8642, 8776, 8811, 8897, 8916, 9153, 9215, 9224, 9319, 9381, 9505, 9579, 9637, 9829, 9844, 10013, 10190, 10218, 10399, 10668, 10737, 10741, 10854, 11079, 11086, 11249, 11364, 11509, 11699, 11731, 11773, 11843, 11898, 12006, 12021, 12043, 12112, 12190, 12410, 12560, 12587, 12615, 12832, 12957, 13000, 13046, 13270, 13345, 13462, 13508, 13791, 13824, 13932, 13994, 14219, 14265, 14484, 14487, 14514, 14652, 14652, 14764, 14849, 14936, 14949, 15037, 15042, 15259, 15350, 15372, 15522, 15577, 15748, 15783, 15991], 1048)\n",
    "print(\"Время интерполяционного поиска: \",\"%s seconds\" % (time.time() - start_time))"
   ]
  },
  {
   "cell_type": "markdown",
   "metadata": {},
   "source": [
    "Бинарное дерево"
   ]
  },
  {
   "cell_type": "code",
   "execution_count": 63,
   "metadata": {},
   "outputs": [
    {
     "name": "stdout",
     "output_type": "stream",
     "text": [
      "1500\n",
      "Нет элемента 953\n",
      "Время поиска бинарного дерева:  2.9389870166778564 seconds\n"
     ]
    }
   ],
   "source": [
    "start_time = time.time()\n",
    "class Node:\n",
    "    def __init__(self, value):\n",
    "        self.left = None\n",
    "        self.right = None\n",
    "        self.value = value\n",
    "\n",
    "class BinaryTree:\n",
    "    def __init__(self):\n",
    "        self.root = None\n",
    "\n",
    "    def getRoot(self):\n",
    "        return self.root\n",
    "\n",
    "    def addElement(self, value):\n",
    "        if self.root is None:\n",
    "            self.root = Node(value)\n",
    "        else:\n",
    "            self._addElement(value, self.root)\n",
    "\n",
    "    def _addElement(self, value, node):\n",
    "        if value < node.value:\n",
    "            if node.left is not None:\n",
    "                self._addElement(value, node.left)\n",
    "            else:\n",
    "                node.left = Node(value)\n",
    "        else:\n",
    "            if node.right is not None:\n",
    "                self._addElement(value, node.right)\n",
    "            else:\n",
    "                node.right = Node(value)\n",
    "\n",
    "    def findElement(self, value):\n",
    "        if self.root is not None:\n",
    "            return self._findElement(value, self.root)\n",
    "        else:\n",
    "            return None\n",
    "\n",
    "    def _findElement(self, value, node):\n",
    "        if value == node.value:\n",
    "            return node\n",
    "        elif (value < node.value and node.left is not None):\n",
    "            return self._findElement(value, node.left)\n",
    "        elif (value > node.value and node.right is not None):\n",
    "            return self._findElement(value, node.right)\n",
    "        \n",
    "    def deleteValue(self, value):\n",
    "        global a\n",
    "        global tree\n",
    "        while value in a:\n",
    "            a.remove(value)\n",
    "        new_tree = BinaryTree()\n",
    "        for number in a:\n",
    "            new_tree.addElement(number)\n",
    "        tree = new_tree\n",
    "        \n",
    "tree = BinaryTree()\n",
    "a=[]\n",
    "n = int(input())\n",
    "for i in range(n):\n",
    "    a.append(randint(0,1000))\n",
    "for i in range(len(a)):\n",
    "    tree.addElement(a[i])\n",
    "searching_element = randint(0,1000)\n",
    "if tree.findElement(searching_element) is None:\n",
    "    print(\"Нет элемента\", searching_element)\n",
    "else: \n",
    "    print(\"Элемент\", searching_element, \"найден\")\n",
    "print(\"Время поиска бинарного дерева: \",\"%s seconds\" % (time.time() - start_time))"
   ]
  },
  {
   "cell_type": "markdown",
   "metadata": {},
   "source": [
    "### Задание 2\n",
    "\n",
    "Реализовать три метода рехэширования"
   ]
  },
  {
   "cell_type": "code",
   "execution_count": 27,
   "metadata": {
    "scrolled": false
   },
   "outputs": [
    {
     "name": "stdout",
     "output_type": "stream",
     "text": [
      "50\n",
      "[28, 16, 90, 98, 23, 73, 54, 33, 95, 53, 86, 20, 99, 3, 76, 67, 58, 24, 84, 42, 36, 44, 29, 37, 15, 69, 21, 2, 42, 53, 97, 90, 93, 75, 79, 85, 27, 60, 99, 51, 80, 39, 98, 90, 77, 22, 62, 97, 17, 46]\n"
     ]
    }
   ],
   "source": [
    "from random import randint\n",
    "\n",
    "#массив для заполнения\n",
    "n = int(input())\n",
    "\n",
    "hash_massivere=[]\n",
    "for i in range(n):\n",
    "    hash_massivere.append(0)\n",
    "    \n",
    "hash_massiverand=[]\n",
    "for i in range(n):\n",
    "    hash_massiverand.append(0)\n",
    "\n",
    "hash_massivechain=[]\n",
    "for i in range(n):\n",
    "    hash_massivechain.append(0)\n",
    "\n",
    "#массив значений\n",
    "values=[]\n",
    "for i in range(n):\n",
    "    values.append(randint(1,100))\n",
    "    \n",
    "summ=0\n",
    "for i in range(n):\n",
    "    summ += values[i]   \n",
    "print(values) "
   ]
  },
  {
   "cell_type": "code",
   "execution_count": 28,
   "metadata": {
    "scrolled": true
   },
   "outputs": [
    {
     "name": "stdout",
     "output_type": "stream",
     "text": [
      "[0, 0, 0, 0, 28, 16, 90, 98, 23, 73, 54, 33, 95, 53, 86, 20, 99, 3, 76, 67, 58, 24, 84, 42, 36, 44, 29, 37, 15, 69, 21, 2, 97, 93, 75, 79, 85, 27, 60, 51, 80, 39, 77, 22, 62, 17, 46, 0, 0, 0]\n"
     ]
    },
    {
     "data": {
      "text/plain": [
       "5"
      ]
     },
     "execution_count": 28,
     "metadata": {},
     "output_type": "execute_result"
    }
   ],
   "source": [
    "#простое рэхеширование\n",
    "class Rehash:\n",
    "\n",
    "    def insert(self, value):\n",
    "        num = summ\n",
    "        key = summ%n\n",
    "        while hash_massivere[key]!=value:\n",
    "            key = num%n\n",
    "            if hash_massivere[key]==0:\n",
    "                hash_massivere[key]=value\n",
    "                return key\n",
    "            elif hash_massivere[key]==value:\n",
    "                return key\n",
    "            else:\n",
    "                num+=1\n",
    "        \n",
    "    def search(self, value):\n",
    "        num = summ\n",
    "        key = summ%n\n",
    "        while hash_massivere[key]!=value:\n",
    "            key = num%n\n",
    "            if hash_massivere[key]==value:\n",
    "                return key\n",
    "            else:\n",
    "                num+=1\n",
    "        return key\n",
    "\n",
    "re=Rehash()\n",
    "\n",
    "for i in range(n):\n",
    "    re.insert(values[i])\n",
    "print(hash_massivere)\n",
    "    \n",
    "re.search(16)"
   ]
  },
  {
   "cell_type": "code",
   "execution_count": 29,
   "metadata": {},
   "outputs": [
    {
     "name": "stdout",
     "output_type": "stream",
     "text": [
      "[77, 85, 84, 22, 28, 67, 80, 42, 60, 20, 0, 76, 44, 24, 53, 29, 27, 33, 99, 90, 58, 75, 98, 42, 39, 90, 79, 15, 23, 37, 93, 46, 95, 97, 62, 3, 69, 17, 54, 73, 2, 0, 21, 98, 99, 97, 51, 86, 36, 16]\n"
     ]
    },
    {
     "data": {
      "text/plain": [
       "49"
      ]
     },
     "execution_count": 29,
     "metadata": {},
     "output_type": "execute_result"
    }
   ],
   "source": [
    "#рэхеширование с иcпользованием псевдослучайных чисел\n",
    "\n",
    "class Random_rehash:\n",
    "    \n",
    "    def rand_insert(self, value):\n",
    "        i=0\n",
    "        num = summ\n",
    "        key = summ%n\n",
    "        while hash_massiverand[key]!=value:\n",
    "            key = num%n\n",
    "            if hash_massiverand[key]==0:\n",
    "                hash_massiverand[key]=value\n",
    "                return key\n",
    "            elif hash_massiverand[key]==value:\n",
    "                return key\n",
    "            else:\n",
    "                i = randint(1,n)\n",
    "                num+=i\n",
    "        \n",
    "    def rand_search(self, value):\n",
    "        i = 0\n",
    "        num = summ\n",
    "        key = summ%n\n",
    "        while hash_massiverand[key]!=value:\n",
    "            key = num%n\n",
    "            if hash_massiverand[key]==value:\n",
    "                return key\n",
    "            else:\n",
    "                i = randint(1,n)\n",
    "                num+=i\n",
    "        return key\n",
    "\n",
    "randre=Random_rehash()\n",
    "\n",
    "for i in range(n):\n",
    "    randre.rand_insert(values[i])\n",
    "print(hash_massiverand)\n",
    "    \n",
    "randre.rand_search(16)"
   ]
  },
  {
   "cell_type": "code",
   "execution_count": 31,
   "metadata": {},
   "outputs": [
    {
     "name": "stdout",
     "output_type": "stream",
     "text": [
      "[0, 51, [2, 2], [43, 3, 53, 3, 53], [54, 54], 0, 0, 0, [58, 58], 0, 60, 0, 62, 0, 0, [15, 15], [16, 16], [67, 67, 17], 0, [69, 69], [20, 20], [21, 21], 22, [64, 73, 23, 73], [24, 24], 75, [76, 76], [27, 77], [28, 28], [29, 29, 79], 80, 0, 0, [33, 33], [84, 84], 85, [36, 36, 86, 36], [37, 37], 0, 39, [90, 90, 90, 90], 0, [42, 42, 42], 93, [44, 44], [95, 95], 46, [97, 97], [98, 98, 98], [99, 99, 99]]\n"
     ]
    },
    {
     "data": {
      "text/plain": [
       "'16 (0)'"
      ]
     },
     "execution_count": 31,
     "metadata": {},
     "output_type": "execute_result"
    }
   ],
   "source": [
    "#метод цепочек\n",
    "class Chain:\n",
    "    def chain_insert(self, value):\n",
    "        key = value%n\n",
    "        if hash_massivechain[key]==0:\n",
    "            hash_massivechain[key]=value\n",
    "            return key\n",
    "        else:\n",
    "            previous = hash_massivechain[key]\n",
    "            if type(previous)!=list:\n",
    "                hash_massivechain[key]=[previous]\n",
    "            hash_massivechain[key].append(value)\n",
    "                \n",
    "    def chain_search(self, value):\n",
    "          for indexI, itemI in enumerate(hash_massivechain):\n",
    "                if (type(itemI) is list):\n",
    "                    for indexJ, itemJ in enumerate(hash_massivechain[indexI]):\n",
    "                        if (itemJ == value):\n",
    "                            return f'{indexI} ({indexJ})'\n",
    "                else:\n",
    "                    if (itemI == value):\n",
    "                        return f'{indexI}'        \n",
    "        \n",
    "chainre=Chain()\n",
    "\n",
    "for i in range(n):\n",
    "    chainre.chain_insert(values[i])\n",
    "print(hash_massivechain)\n",
    "    \n",
    "chainre.chain_search(16)     \n"
   ]
  },
  {
   "cell_type": "markdown",
   "metadata": {},
   "source": [
    "### Задание 3\n",
    "\n",
    "Расставить на стандартной 64-клеточной шахматной доске 8 ферзей так, чтобы ни один из них не находился под боем другого». Подразумевается, что ферзь бьёт все клетки, расположенные по вертикалям, горизонталям и обеим диагоналям. Написать программу, которая находит хотя бы один способ решения задач."
   ]
  },
  {
   "cell_type": "code",
   "execution_count": 32,
   "metadata": {},
   "outputs": [
    {
     "name": "stdout",
     "output_type": "stream",
     "text": [
      "['A1', 'E2', 'H3', 'F4', 'C5', 'G6', 'B7', 'D8']\n",
      "['A1', 'F2', 'H3', 'C4', 'G5', 'D6', 'B7', 'E8']\n",
      "['A1', 'G2', 'D3', 'F4', 'H5', 'B6', 'E7', 'C8']\n",
      "['A1', 'G2', 'E3', 'H4', 'B5', 'D6', 'F7', 'C8']\n",
      "['B1', 'D2', 'F3', 'H4', 'C5', 'A6', 'G7', 'E8']\n",
      "['B1', 'E2', 'G3', 'A4', 'C5', 'H6', 'F7', 'D8']\n",
      "['B1', 'E2', 'G3', 'D4', 'A5', 'H6', 'F7', 'C8']\n",
      "['B1', 'F2', 'A3', 'G4', 'D5', 'H6', 'C7', 'E8']\n",
      "['B1', 'F2', 'H3', 'C4', 'A5', 'D6', 'G7', 'E8']\n",
      "['B1', 'G2', 'C3', 'F4', 'H5', 'E6', 'A7', 'D8']\n",
      "['B1', 'G2', 'E3', 'H4', 'A5', 'D6', 'F7', 'C8']\n",
      "['B1', 'H2', 'F3', 'A4', 'C5', 'E6', 'G7', 'D8']\n",
      "['C1', 'A2', 'G3', 'E4', 'H5', 'B6', 'D7', 'F8']\n",
      "['C1', 'E2', 'B3', 'H4', 'A5', 'G6', 'D7', 'F8']\n",
      "['C1', 'E2', 'B3', 'H4', 'F5', 'D6', 'G7', 'A8']\n",
      "['C1', 'E2', 'G3', 'A4', 'D5', 'B6', 'H7', 'F8']\n",
      "['C1', 'E2', 'H3', 'D4', 'A5', 'G6', 'B7', 'F8']\n",
      "['C1', 'F2', 'B3', 'E4', 'H5', 'A6', 'G7', 'D8']\n",
      "['C1', 'F2', 'B3', 'G4', 'A5', 'D6', 'H7', 'E8']\n",
      "['C1', 'F2', 'B3', 'G4', 'E5', 'A6', 'H7', 'D8']\n",
      "['C1', 'F2', 'D3', 'A4', 'H5', 'E6', 'G7', 'B8']\n",
      "['C1', 'F2', 'D3', 'B4', 'H5', 'E6', 'G7', 'A8']\n",
      "['C1', 'F2', 'H3', 'A4', 'D5', 'G6', 'E7', 'B8']\n",
      "['C1', 'F2', 'H3', 'A4', 'E5', 'G6', 'B7', 'D8']\n",
      "['C1', 'F2', 'H3', 'B4', 'D5', 'A6', 'G7', 'E8']\n",
      "['C1', 'G2', 'B3', 'H4', 'E5', 'A6', 'D7', 'F8']\n",
      "['C1', 'G2', 'B3', 'H4', 'F5', 'D6', 'A7', 'E8']\n",
      "['C1', 'H2', 'D3', 'G4', 'A5', 'F6', 'B7', 'E8']\n",
      "['D1', 'A2', 'E3', 'H4', 'B5', 'G6', 'C7', 'F8']\n",
      "['D1', 'A2', 'E3', 'H4', 'F5', 'C6', 'G7', 'B8']\n",
      "['D1', 'B2', 'E3', 'H4', 'F5', 'A6', 'C7', 'G8']\n",
      "['D1', 'B2', 'G3', 'C4', 'F5', 'H6', 'A7', 'E8']\n",
      "['D1', 'B2', 'G3', 'C4', 'F5', 'H6', 'E7', 'A8']\n",
      "['D1', 'B2', 'G3', 'E4', 'A5', 'H6', 'F7', 'C8']\n",
      "['D1', 'B2', 'H3', 'E4', 'G5', 'A6', 'C7', 'F8']\n",
      "['D1', 'B2', 'H3', 'F4', 'A5', 'C6', 'E7', 'G8']\n",
      "['D1', 'F2', 'A3', 'E4', 'B5', 'H6', 'C7', 'G8']\n",
      "['D1', 'F2', 'H3', 'B4', 'G5', 'A6', 'C7', 'E8']\n",
      "['D1', 'F2', 'H3', 'C4', 'A5', 'G6', 'E7', 'B8']\n",
      "['D1', 'G2', 'A3', 'H4', 'E5', 'B6', 'F7', 'C8']\n",
      "['D1', 'G2', 'C3', 'H4', 'B5', 'E6', 'A7', 'F8']\n",
      "['D1', 'G2', 'E3', 'B4', 'F5', 'A6', 'C7', 'H8']\n",
      "['D1', 'G2', 'E3', 'C4', 'A5', 'F6', 'H7', 'B8']\n",
      "['D1', 'H2', 'A3', 'C4', 'F5', 'B6', 'G7', 'E8']\n",
      "['D1', 'H2', 'A3', 'E4', 'G5', 'B6', 'F7', 'C8']\n",
      "['D1', 'H2', 'E3', 'C4', 'A5', 'G6', 'B7', 'F8']\n",
      "['E1', 'A2', 'D3', 'F4', 'H5', 'B6', 'G7', 'C8']\n",
      "['E1', 'A2', 'H3', 'D4', 'B5', 'G6', 'C7', 'F8']\n",
      "['E1', 'A2', 'H3', 'F4', 'C5', 'G6', 'B7', 'D8']\n",
      "['E1', 'B2', 'D3', 'F4', 'H5', 'C6', 'A7', 'G8']\n",
      "['E1', 'B2', 'D3', 'G4', 'C5', 'H6', 'F7', 'A8']\n",
      "['E1', 'B2', 'F3', 'A4', 'G5', 'D6', 'H7', 'C8']\n",
      "['E1', 'B2', 'H3', 'A4', 'D5', 'G6', 'C7', 'F8']\n",
      "['E1', 'C2', 'A3', 'F4', 'H5', 'B6', 'D7', 'G8']\n",
      "['E1', 'C2', 'A3', 'G4', 'B5', 'H6', 'F7', 'D8']\n",
      "['E1', 'C2', 'H3', 'D4', 'G5', 'A6', 'F7', 'B8']\n",
      "['E1', 'G2', 'A3', 'C4', 'H5', 'F6', 'D7', 'B8']\n",
      "['E1', 'G2', 'A3', 'D4', 'B5', 'H6', 'F7', 'C8']\n",
      "['E1', 'G2', 'B3', 'D4', 'H5', 'A6', 'C7', 'F8']\n",
      "['E1', 'G2', 'B3', 'F4', 'C5', 'A6', 'D7', 'H8']\n",
      "['E1', 'G2', 'B3', 'F4', 'C5', 'A6', 'H7', 'D8']\n",
      "['E1', 'G2', 'D3', 'A4', 'C5', 'H6', 'F7', 'B8']\n",
      "['E1', 'H2', 'D3', 'A4', 'C5', 'F6', 'B7', 'G8']\n",
      "['E1', 'H2', 'D3', 'A4', 'G5', 'B6', 'F7', 'C8']\n",
      "['F1', 'A2', 'E3', 'B4', 'H5', 'C6', 'G7', 'D8']\n",
      "['F1', 'B2', 'G3', 'A4', 'C5', 'E6', 'H7', 'D8']\n",
      "['F1', 'B2', 'G3', 'A4', 'D5', 'H6', 'E7', 'C8']\n",
      "['F1', 'C2', 'A3', 'G4', 'E5', 'H6', 'B7', 'D8']\n",
      "['F1', 'C2', 'A3', 'H4', 'D5', 'B6', 'G7', 'E8']\n",
      "['F1', 'C2', 'A3', 'H4', 'E5', 'B6', 'D7', 'G8']\n",
      "['F1', 'C2', 'E3', 'G4', 'A5', 'D6', 'B7', 'H8']\n",
      "['F1', 'C2', 'E3', 'H4', 'A5', 'D6', 'B7', 'G8']\n",
      "['F1', 'C2', 'G3', 'B4', 'D5', 'H6', 'A7', 'E8']\n",
      "['F1', 'C2', 'G3', 'B4', 'H5', 'E6', 'A7', 'D8']\n",
      "['F1', 'C2', 'G3', 'D4', 'A5', 'H6', 'B7', 'E8']\n",
      "['F1', 'D2', 'A3', 'E4', 'H5', 'B6', 'G7', 'C8']\n",
      "['F1', 'D2', 'B3', 'H4', 'E5', 'G6', 'A7', 'C8']\n",
      "['F1', 'D2', 'G3', 'A4', 'C5', 'E6', 'B7', 'H8']\n",
      "['F1', 'D2', 'G3', 'A4', 'H5', 'B6', 'E7', 'C8']\n",
      "['F1', 'H2', 'B3', 'D4', 'A5', 'G6', 'E7', 'C8']\n",
      "['G1', 'A2', 'C3', 'H4', 'F5', 'D6', 'B7', 'E8']\n",
      "['G1', 'B2', 'D3', 'A4', 'H5', 'E6', 'C7', 'F8']\n",
      "['G1', 'B2', 'F3', 'C4', 'A5', 'D6', 'H7', 'E8']\n",
      "['G1', 'C2', 'A3', 'F4', 'H5', 'E6', 'B7', 'D8']\n",
      "['G1', 'C2', 'H3', 'B4', 'E5', 'A6', 'F7', 'D8']\n",
      "['G1', 'D2', 'B3', 'E4', 'H5', 'A6', 'C7', 'F8']\n",
      "['G1', 'D2', 'B3', 'H4', 'F5', 'A6', 'C7', 'E8']\n",
      "['G1', 'E2', 'C3', 'A4', 'F5', 'H6', 'B7', 'D8']\n",
      "['H1', 'B2', 'D3', 'A4', 'G5', 'E6', 'C7', 'F8']\n",
      "['H1', 'B2', 'E3', 'C4', 'A5', 'G6', 'D7', 'F8']\n",
      "['H1', 'C2', 'A3', 'F4', 'B5', 'E6', 'G7', 'D8']\n",
      "['H1', 'D2', 'A3', 'C4', 'F5', 'B6', 'G7', 'E8']\n"
     ]
    }
   ],
   "source": [
    "class FindFerz:\n",
    "#установка ферзя    \n",
    "    def set_ferz(self, i, j):\n",
    "        for x in range(8):\n",
    "            board[x][j] += 1\n",
    "            board[i][x] += 1\n",
    "            #второстепенная диагональ\n",
    "            if 0 <= i + j - x < 8:\n",
    "                board[i + j - x][x] += 1\n",
    "            #главная диагональ\n",
    "            if 0 <= i - j + x < 8:\n",
    "                board[i - j + x][x] += 1\n",
    "        #позиция ферзя\n",
    "        board[i][j] = -1\n",
    "\n",
    "#удаление ферзя\n",
    "    def delete_ferz(self, i, j):\n",
    "    #позицию ферзя принимаем за -1\n",
    "        for x in range(8):\n",
    "            board[x][j] -= 1\n",
    "            board[i][x] -= 1\n",
    "        #второстепенная диагоняль\n",
    "            if 0 <= i + j - x < 8:\n",
    "                board[i + j - x][x] -= 1\n",
    "        #главная диагональ\n",
    "            if 0 <= i - j + x < 8:\n",
    "                board[i - j + x][x] -= 1\n",
    "    #позиция удаленного ферзя\n",
    "        board[i][j] = 0\n",
    "\n",
    "#печать позиции на доске из числовой матрицы\n",
    "    def print_coord(self):\n",
    "        alphabet = \"ABCDEFGH\"\n",
    "        coord = []\n",
    "        for i in range(8):\n",
    "            for j in range(8):\n",
    "                if board[i][j] == -1:\n",
    "                    coord.append(alphabet[j] + str(i + 1))\n",
    "        print(coord)\n",
    "#решение\n",
    "    def solve(self, i):\n",
    "    #пробегаемся по столбцам\n",
    "        for j in range(8):\n",
    "        #если 0, то это возможное расположение ферзя\n",
    "            if board[i][j] == 0:\n",
    "                self.set_ferz(i, j)\n",
    "            #если это последняя строка, то расстановка верная\n",
    "                if i == 7:\n",
    "                # выводим доску\n",
    "                    self.print_coord()\n",
    "            #иначе вызывыаем следующую строку\n",
    "                else:\n",
    "                    self.solve(i + 1)\n",
    "                self.delete_ferz(i, j)\n",
    "ferz = FindFerz()\n",
    "\n",
    "board = [[0 for i in range(8)] for j in range(8)]\n",
    "ferz.solve(0)"
   ]
  },
  {
   "cell_type": "markdown",
   "metadata": {},
   "source": [
    "### Вывод\n",
    "Выполнив данную лабораторную работу, я научилась применять на практике различные методы поиска."
   ]
  }
 ],
 "metadata": {
  "kernelspec": {
   "display_name": "Python 3",
   "language": "python",
   "name": "python3"
  },
  "language_info": {
   "codemirror_mode": {
    "name": "ipython",
    "version": 3
   },
   "file_extension": ".py",
   "mimetype": "text/x-python",
   "name": "python",
   "nbconvert_exporter": "python",
   "pygments_lexer": "ipython3",
   "version": "3.9.1"
  }
 },
 "nbformat": 4,
 "nbformat_minor": 4
}
