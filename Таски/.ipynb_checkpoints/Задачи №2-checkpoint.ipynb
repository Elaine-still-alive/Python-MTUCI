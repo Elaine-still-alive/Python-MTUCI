{
 "cells": [
  {
   "cell_type": "markdown",
   "metadata": {},
   "source": [
    "# Контрольные задачи по дисциплине СиАОД №1"
   ]
  },
  {
   "cell_type": "markdown",
   "metadata": {},
   "source": [
    "### Задача 1. «Треугольник с максимальным периметром»\n",
    "Массив A состоит из целых положительных чисел ­ длин отрезков. Составьте из трех отрезков такой треугольник, чтобы его периметр был максимально возможным. Если невозможно\n",
    "составить треугольник с положительной площадью ­ функция возвращает 0."
   ]
  },
  {
   "cell_type": "code",
   "execution_count": 1,
   "metadata": {},
   "outputs": [
    {
     "name": "stdout",
     "output_type": "stream",
     "text": [
      "15\n",
      "[2, 17, 2, 17, 14, 7, 3, 20, 16, 12, 7, 14, 19, 18, 7]\n"
     ]
    },
    {
     "data": {
      "text/plain": [
       "'Максимальный периметр: 57'"
      ]
     },
     "execution_count": 1,
     "metadata": {},
     "output_type": "execute_result"
    }
   ],
   "source": [
    "from random import randint\n",
    "\n",
    "class Triangle:\n",
    "    \n",
    "    def max_perimeter(self):\n",
    "        \n",
    "        maxPer = 0\n",
    "        n = len(A)\n",
    "        \n",
    "        for i in range(n-2):\n",
    "            for j in range(i+1, n-1):\n",
    "                for k in range(j+1, n):\n",
    "                    \n",
    "                    a = A[i]\n",
    "                    b = A[j]\n",
    "                    c = A[k]\n",
    "                    \n",
    "                    if a<b+c and b<a+c and c<a+b:\n",
    "                        \n",
    "                        maxPer = max(maxPer, a+b+c)\n",
    "                        \n",
    "        return  \"Максимальный периметр: \"+ str(maxPer)\n",
    "    \n",
    "abc = Triangle()\n",
    "\n",
    "\n",
    "A = []\n",
    "\n",
    "length = int(input())\n",
    "for i in range(length):\n",
    "    A.append(randint(1,20))\n",
    "\n",
    "print(A)\n",
    "\n",
    "abc.max_perimeter()"
   ]
  },
  {
   "cell_type": "markdown",
   "metadata": {},
   "source": [
    "### Задача 2. «Максимальное число»\n",
    "\n",
    "Дан массив неотрицательных целых чисел nums. Расположите их в таком порядке, чтобы\n",
    "вместе они образовали максимально возможное число"
   ]
  },
  {
   "cell_type": "code",
   "execution_count": 1,
   "metadata": {
    "scrolled": true
   },
   "outputs": [
    {
     "name": "stdout",
     "output_type": "stream",
     "text": [
      "[34323, 3432]\n"
     ]
    },
    {
     "data": {
      "text/plain": [
       "'343234323'"
      ]
     },
     "execution_count": 1,
     "metadata": {},
     "output_type": "execute_result"
    }
   ],
   "source": [
    "from random import randint\n",
    "class MaxNum():   \n",
    "    def highest_comb(self):\n",
    "        max_length = len(str(max(L)))\n",
    "        K = map(str, L)  \n",
    "        def sort_key(s):\n",
    "            return s + \"9\" * (max_length - len(s))\n",
    "\n",
    "        sorted_list = sorted(K, key=sort_key, reverse=True)\n",
    "        return ''.join(sorted_list)\n",
    "\n",
    "massiv = MaxNum()\n",
    "\n",
    "L = [34323, 3432]\n",
    "#length = int(input())\n",
    "\n",
    "#for i in range(length):\n",
    "    #L.append(int(input())\n",
    "    \n",
    "print(L)\n",
    "\n",
    "massiv.highest_comb()\n"
   ]
  },
  {
   "cell_type": "markdown",
   "metadata": {},
   "source": [
    "### Задача 3. «Сортировка диагоналей в матрице»\n",
    "\n",
    "Дана матрица mat размером m * n, значения - целочисленные. Напишите функцию, сортирующую каждую диагональ матрицы по возрастанию и возвращающую получившуюся матрицу"
   ]
  },
  {
   "cell_type": "code",
   "execution_count": 162,
   "metadata": {},
   "outputs": [
    {
     "name": "stdout",
     "output_type": "stream",
     "text": [
      "5 17 4 1 52 7 \n",
      "11 11 25 45 8 69 \n",
      "14 23 25 44 58 15 \n",
      "22 27 31 36 50 66 \n",
      "84 28 75 33 55 68 \n",
      "\n"
     ]
    }
   ],
   "source": [
    "        n = 5\n",
    "        m = 6\n",
    "        mat =  [[11, 25, 66, 1, 69, 7], \n",
    "                [23, 55, 17, 45, 15, 52], \n",
    "                [75, 31, 36, 44, 58, 8], \n",
    "                [22, 27, 33, 25, 68, 4], \n",
    "                [84, 28, 14, 11, 5, 50]]\n",
    "        \n",
    "        mat_col = [[] * n for i in range(m)]\n",
    "\n",
    "        for i in range(m):\n",
    "            for k in range(n):\n",
    "                mat_col[i].append(mat[k][i])\n",
    "            mat_col[i].append(0)\n",
    "\n",
    "        mat_row = [[] * (m+1) for i in range(n+1)]\n",
    "        for i in range(n+1):\n",
    "            for k in range(m):\n",
    "                mat_row[i].append(mat_col[k][i])\n",
    "            mat_row[i].append(0)\n",
    "            \n",
    "        mat = mat_row \n",
    "        \n",
    "        for k in range(n*n):\n",
    "            for i in range(m-1):\n",
    "                for j in range(n):\n",
    "                    if mat[i+1][j+1]==0:\n",
    "                        break\n",
    "                    if mat[i][j]>mat[i+1][j+1]:\n",
    "                        mat[i][j],mat[i+1][j+1] = mat[i+1][j+1], mat[i][j]\n",
    "        \n",
    "        sort_mat = [[] * n for i in range(m)]\n",
    "        for i in range(n):\n",
    "            for k in range(m):\n",
    "                sort_mat[i].append(mat[i][k])\n",
    "        \n",
    "       \n",
    "        for i in range(len(sort_mat)):      \n",
    "            for j in range(len(sort_mat[i])):  \n",
    "                print(sort_mat[i][j], end = ' ')\n",
    "            print()"
   ]
  }
 ],
 "metadata": {
  "kernelspec": {
   "display_name": "Python 3",
   "language": "python",
   "name": "python3"
  },
  "language_info": {
   "codemirror_mode": {
    "name": "ipython",
    "version": 3
   },
   "file_extension": ".py",
   "mimetype": "text/x-python",
   "name": "python",
   "nbconvert_exporter": "python",
   "pygments_lexer": "ipython3",
   "version": "3.8.5"
  }
 },
 "nbformat": 4,
 "nbformat_minor": 4
}
