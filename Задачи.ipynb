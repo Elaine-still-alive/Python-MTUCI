{
 "cells": [
  {
   "cell_type": "markdown",
   "metadata": {},
   "source": [
    "# Задача 2. Правильный подмногоугольник\n",
    "\n",
    "### Задан правильный N-угольник. Требуется выбрать наименьшее количество его вершин, которые также образуют правильный многоугольник."
   ]
  },
  {
   "cell_type": "code",
   "execution_count": 9,
   "metadata": {},
   "outputs": [
    {
     "name": "stdout",
     "output_type": "stream",
     "text": [
      "4\n",
      "4\n"
     ]
    }
   ],
   "source": [
    "N = int(input())\n",
    "min_vershin = N\n",
    "if N<3:\n",
    "    print(\"Это не многоугольник\")\n",
    "    min_vershin = 0\n",
    "for i in range(3, N+1):\n",
    "    if N%i == 0:\n",
    "        min_vershin = i\n",
    "        break;\n",
    "print(min_vershin)"
   ]
  },
  {
   "cell_type": "markdown",
   "metadata": {},
   "source": [
    "# Задача 1"
   ]
  },
  {
   "cell_type": "code",
   "execution_count": null,
   "metadata": {},
   "outputs": [],
   "source": [
    "\n",
    "# Узнаем размер массива строк и заполняем его\n",
    "countOfLines = int(input())\n",
    "arr = []\n",
    "for i in range(countOfLines):\n",
    "    arr.append(input())\n",
    "    \n",
    "# Проверяем массив на соблюдение всех условий\n",
    "if arr[0].find('Vote') == -1:\n",
    "    nothingToDelete = False\n",
    "    while len(arr) > 0 and not nothingToDelete:\n",
    "        letter = ''\n",
    "        addPos = -1\n",
    "        votePos = -1\n",
    "\n",
    "        for i in range(len(arr)):\n",
    "            if arr[i].find('Add') != -1:\n",
    "                addPos = i\n",
    "                letter = arr[i][4]\n",
    "            elif arr[i].find(letter) != -1:\n",
    "\n",
    "                votePos = i\n",
    "                break\n",
    "            else:\n",
    "                nothingToDelete = True\n",
    "\n",
    "        if addPos != -1 and votePos != -1 and not nothingToDelete:\n",
    "            arr.pop(addPos)\n",
    "            arr.pop(votePos - 1)\n",
    "        else:\n",
    "\n",
    "            nothingToDelete = True\n",
    "\n",
    "    if len(arr) == 0:\n",
    "        print('Yes')\n",
    "    else:\n",
    "        print('No')\n",
    "else:\n",
    "\n",
    "    print('No')\n"
   ]
  },
  {
   "cell_type": "markdown",
   "metadata": {},
   "source": [
    "# Задача 3"
   ]
  },
  {
   "cell_type": "code",
   "execution_count": null,
   "metadata": {},
   "outputs": [],
   "source": [
    "inp = input()\n",
    "ans = []\n",
    "for i in range(2,37):\n",
    "    try:\n",
    "        for k in range(2,int(inp, i)):\n",
    "            if (int(inp, i) % k == 0):\n",
    "                ans.append(\"{0} {1}\".format(i,k))\n",
    "    except Exception:\n",
    "        err = 1\n",
    "            \n",
    "if (not ans):\n",
    "    ans.append(-1)\n",
    "    \n",
    "print(ans)"
   ]
  }
 ],
 "metadata": {
  "kernelspec": {
   "display_name": "Python 3",
   "language": "python",
   "name": "python3"
  },
  "language_info": {
   "codemirror_mode": {
    "name": "ipython",
    "version": 3
   },
   "file_extension": ".py",
   "mimetype": "text/x-python",
   "name": "python",
   "nbconvert_exporter": "python",
   "pygments_lexer": "ipython3",
   "version": "3.8.5"
  }
 },
 "nbformat": 4,
 "nbformat_minor": 4
}
